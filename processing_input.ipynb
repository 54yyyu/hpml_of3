{
 "cells": [
  {
   "cell_type": "code",
   "execution_count": null,
   "id": "13b50c6d",
   "metadata": {},
   "outputs": [],
   "source": [
    "import pandas as pd\n",
    "import subprocess\n",
    "import logging\n",
    "import torch\n",
    "import gc\n",
    "\n",
    "logging.basicConfig(level=logging.INFO)\n",
    "logger = logging.getLogger(__name__)"
   ]
  },
  {
   "cell_type": "code",
   "execution_count": 2,
   "id": "2cb00cd7",
   "metadata": {},
   "outputs": [],
   "source": [
    "sub_file = pd.read_csv('stanford-rna-3d-folding/test_sequences.csv')\n",
    "\n",
    "sub_file.head()\n",
    "\n",
    "names = sub_file['target_id'].tolist()\n",
    "sequences = sub_file['sequence'].tolist()\n",
    "\n",
    "# Inference\n",
    "idx = 0 \n",
    "for tmp_id, tmp_sequence in zip(names, sequences):\n",
    "    with open(f'inputs_prediction/{tmp_id}.yaml', 'w') as f:\n",
    "        f.write(\"constraints: []\\n\")\n",
    "        f.write(\"sequences:\\n\")\n",
    "        f.write(\"- rna:\\n\")\n",
    "        f.write(\"    id:\\n\")\n",
    "        f.write(\"    - A1\\n\")\n",
    "        f.write(f\"    sequence: {tmp_sequence}\")"
   ]
  },
  {
   "cell_type": "code",
   "execution_count": 3,
   "id": "241e05de",
   "metadata": {},
   "outputs": [
    {
     "name": "stdout",
     "output_type": "stream",
     "text": [
      "R1107.yaml  R1116.yaml\t  R1126.yaml  R1136.yaml  R1149.yaml  R1189.yaml\n",
      "R1108.yaml  R1117v2.yaml  R1128.yaml  R1138.yaml  R1156.yaml  R1190.yaml\n"
     ]
    }
   ],
   "source": [
    "!ls inputs_prediction"
   ]
  },
  {
   "cell_type": "code",
   "execution_count": null,
   "id": "b7b4a61e",
   "metadata": {},
   "outputs": [
    {
     "data": {
      "text/plain": [
       "20"
      ]
     },
     "execution_count": 5,
     "metadata": {},
     "output_type": "execute_result"
    }
   ],
   "source": [
    "torch.cuda.empty_cache()\n",
    "gc.collect()"
   ]
  },
  {
   "cell_type": "code",
   "execution_count": 11,
   "id": "fc9af8ad",
   "metadata": {},
   "outputs": [
    {
     "name": "stderr",
     "output_type": "stream",
     "text": [
      "INFO:__main__:Command output: Checking input data.\n",
      "Running predictions for 12 structures\n",
      "Processing input data.\n",
      "Found a manifest file at output directory: outputs_prediction/boltz_results_inputs_prediction\n",
      "All examples in data are processed. Updating the manifest\n",
      "\n",
      "Predicting: |          | 0/? [00:00<?, ?it/s]\n",
      "Predicting:   0%|          | 0/12 [00:00<?, ?it/s]\n",
      "Predicting DataLoader 0:   0%|          | 0/12 [00:00<?, ?it/s]\n",
      "Predicting DataLoader 0:   8%|▊         | 1/12 [00:29<05:21,  0.03it/s]\n",
      "Predicting DataLoader 0:  17%|█▋        | 2/12 [00:43<03:36,  0.05it/s]\n",
      "Predicting DataLoader 0:  25%|██▌       | 3/12 [00:50<02:31,  0.06it/s]\n",
      "Predicting DataLoader 0:  33%|███▎      | 4/12 [00:58<01:57,  0.07it/s]\n",
      "Predicting DataLoader 0:  42%|████▏     | 5/12 [01:08<01:35,  0.07it/s]\n",
      "Predicting DataLoader 0:  50%|█████     | 6/12 [01:15<01:15,  0.08it/s]\n",
      "Predicting DataLoader 0:  58%|█████▊    | 7/12 [01:23<00:59,  0.08it/s]\n",
      "Predicting DataLoader 0:  67%|██████▋   | 8/12 [01:49<00:54,  0.07it/s]\n",
      "Predicting DataLoader 0:  75%|███████▌  | 9/12 [01:56<00:38,  0.08it/s]\n",
      "Predicting DataLoader 0:  83%|████████▎ | 10/12 [02:04<00:24,  0.08it/s]\n",
      "Predicting DataLoader 0:  92%|█████████▏| 11/12 [02:12<00:12,  0.08it/s]\n",
      "Predicting DataLoader 0: 100%|██████████| 12/12 [03:40<00:00,  0.05it/s]Number of failed examples: 0\n",
      "\n",
      "Predicting DataLoader 0: 100%|██████████| 12/12 [03:40<00:00,  0.05it/s]\n",
      "\n",
      "ERROR:__main__:Command error: [rank: 0] Seed set to 42\n",
      "/insomnia001/depts/edu/COMSE6998/yy3448/mambaforge/envs/boltz/lib/python3.11/site-packages/lightning_fabric/plugins/environments/slurm.py:204: The `srun` command is available on your system but is not used. HINT: If your intention is to run Lightning on SLURM, prepend your python command with `srun` like so: srun python inference_rna.py ...\n",
      "GPU available: True (cuda), used: True\n",
      "TPU available: False, using: 0 TPU cores\n",
      "HPU available: False, using: 0 HPUs\n",
      "/insomnia001/depts/edu/COMSE6998/yy3448/mambaforge/envs/boltz/lib/python3.11/site-packages/pytorch_lightning/trainer/connectors/logger_connector/logger_connector.py:75: Starting from v1.9.0, `tensorboardX` has been removed as a dependency of the `pytorch_lightning` package, due to potential conflicts with other packages in the ML ecosystem. For this reason, `logger=True` will use `CSVLogger` as the default logger, unless the `tensorboard` or `tensorboardX` packages are found. Please `pip install lightning[extra]` or one of them to enable TensorBoard support by default\n",
      "You are using a CUDA device ('NVIDIA H100 NVL') that has Tensor Cores. To properly utilize them, you should set `torch.set_float32_matmul_precision('medium' | 'high')` which will trade-off precision for performance. For more details, read https://pytorch.org/docs/stable/generated/torch.set_float32_matmul_precision.html#torch.set_float32_matmul_precision\n",
      "LOCAL_RANK: 0 - CUDA_VISIBLE_DEVICES: [0]\n",
      "\n"
     ]
    }
   ],
   "source": [
    "result = subprocess.run(['python', 'inference_rna.py'], capture_output=True, text=True)\n",
    "logger.info(f\"Command output: {result.stdout}\")\n",
    "logger.error(f\"Command error: {result.stderr}\")"
   ]
  },
  {
   "cell_type": "code",
   "execution_count": null,
   "id": "7ed46ec1",
   "metadata": {},
   "outputs": [],
   "source": []
  }
 ],
 "metadata": {
  "kernelspec": {
   "display_name": "boltz",
   "language": "python",
   "name": "python3"
  },
  "language_info": {
   "codemirror_mode": {
    "name": "ipython",
    "version": 3
   },
   "file_extension": ".py",
   "mimetype": "text/x-python",
   "name": "python",
   "nbconvert_exporter": "python",
   "pygments_lexer": "ipython3",
   "version": "3.11.12"
  }
 },
 "nbformat": 4,
 "nbformat_minor": 5
}
